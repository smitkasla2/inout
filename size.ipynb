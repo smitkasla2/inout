# Check Image Size
import io
from PIL import Image
import base64

# Convert base64 string to bytes
img_bytes = io.BytesIO(base64.b64decode('YOUR_BASE64_ENCODED_IMAGE_STRING_HERE'))
image = Image.open(img_bytes)

# Get and print image size
print("Image Size:", image.size)
