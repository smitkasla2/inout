{
  "nbformat": 4,
  "nbformat_minor": 0,
  "metadata": {
    "colab": {
      "provenance": []
    },
    "kernelspec": {
      "name": "python3",
      "display_name": "Python 3"
    },
    "language_info": {
      "name": "python"
    }
  },
  "cells": [
    {
      "cell_type": "code",
      "execution_count": null,
      "metadata": {
        "id": "TvRFwaGna7aW"
      },
      "outputs": [],
      "source": [
        "# Check Image Size\n",
        "import io\n",
        "from PIL import Image\n",
        "import base64\n",
        "\n",
        "# Convert base64 string to bytes\n",
        "img_bytes = io.BytesIO(base64.b64decode('{{IMAGE_STRING}}'))\n",
        "image = Image.open(img_bytes)\n",
        "\n",
        "# Get and print image size\n",
        "print(\"Image Size:\", image.size)\n"
      ]
    }
  ]
}